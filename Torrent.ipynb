{
  "nbformat": 4,
  "nbformat_minor": 0,
  "metadata": {
    "colab": {
      "name": "Torrent.ipynb",
      "provenance": [],
      "collapsed_sections": [],
      "include_colab_link": true
    },
    "kernelspec": {
      "name": "python3",
      "display_name": "Python 3"
    }
  },
  "cells": [
    {
      "cell_type": "markdown",
      "metadata": {
        "id": "view-in-github",
        "colab_type": "text"
      },
      "source": [
        "<a href=\"https://colab.research.google.com/github/plok00286750/Torrents-to-Google-Drive/blob/master/Torrent.ipynb\" target=\"_parent\"><img src=\"https://colab.research.google.com/assets/colab-badge.svg\" alt=\"Open In Colab\"/></a>"
      ]
    },
    {
      "cell_type": "markdown",
      "metadata": {
        "id": "THFW007e8-tQ"
      },
      "source": [
        "The cell below will **authenticate google drive to the colab** sign in the account which you will be using to download Torrents"
      ]
    },
    {
      "cell_type": "code",
      "metadata": {
        "id": "Nso1uKqW151c",
        "colab": {
          "base_uri": "https://localhost:8080/",
          "height": 34
        },
        "outputId": "271f0592-4727-48d3-9056-ae7996338629"
      },
      "source": [
        "from google.colab import drive\n",
        "drive.mount('/content/drive/')"
      ],
      "execution_count": null,
      "outputs": [
        {
          "output_type": "stream",
          "text": [
            "Mounted at /content/drive/\n"
          ],
          "name": "stdout"
        }
      ]
    },
    {
      "cell_type": "markdown",
      "metadata": {
        "id": "2faRsFpa9QtP"
      },
      "source": [
        "Change Directory to main Drive"
      ]
    },
    {
      "cell_type": "code",
      "metadata": {
        "id": "6bFsRZES0R_z",
        "colab": {
          "base_uri": "https://localhost:8080/",
          "height": 34
        },
        "outputId": "4c7c8fa1-4739-4248-ecd6-ca2ed1eb0782"
      },
      "source": [
        "%cd '/content/drive/My Drive'"
      ],
      "execution_count": null,
      "outputs": [
        {
          "output_type": "stream",
          "text": [
            "/content/drive/My Drive\n"
          ],
          "name": "stdout"
        }
      ]
    },
    {
      "cell_type": "markdown",
      "metadata": {
        "id": "blpJdjhCAKqq"
      },
      "source": [
        "To check current working directory"
      ]
    },
    {
      "cell_type": "code",
      "metadata": {
        "id": "-GC2y-jSXbbC",
        "colab": {
          "base_uri": "https://localhost:8080/",
          "height": 34
        },
        "outputId": "9b42fd74-5701-497c-9ad8-a27b1ff08323"
      },
      "source": [
        "!pwd"
      ],
      "execution_count": null,
      "outputs": [
        {
          "output_type": "stream",
          "text": [
            "/content/drive/My Drive\n"
          ],
          "name": "stdout"
        }
      ]
    },
    {
      "cell_type": "markdown",
      "metadata": {
        "id": "1wO5DSg39Ysy"
      },
      "source": [
        "Installing **Torrent** Client"
      ]
    },
    {
      "cell_type": "code",
      "metadata": {
        "id": "kPwXeWOr0gPH",
        "colab": {
          "base_uri": "https://localhost:8080/",
          "height": 1000
        },
        "outputId": "ef62f335-ef6c-4d8e-fe7e-d88dfd0706bf"
      },
      "source": [
        "!add-apt-repository ppa:qbittorrent-team/qbittorrent-stable -y\n",
        "!apt install qbittorrent-nox"
      ],
      "execution_count": null,
      "outputs": [
        {
          "output_type": "stream",
          "text": [
            "\r0% [Working]\r            \rIgn:1 https://developer.download.nvidia.com/compute/cuda/repos/ubuntu1804/x86_64  InRelease\n",
            "\r0% [Connecting to archive.ubuntu.com (91.189.88.142)] [Waiting for headers] [Wa\r                                                                               \rGet:2 https://cloud.r-project.org/bin/linux/ubuntu bionic-cran40/ InRelease [3,626 B]\n",
            "\r0% [Connecting to archive.ubuntu.com (91.189.88.142)] [Waiting for headers] [2 \r0% [Connecting to archive.ubuntu.com (91.189.88.142)] [Waiting for headers] [Co\r0% [2 InRelease gpgv 3,626 B] [Connecting to archive.ubuntu.com (91.189.88.142)\r                                                                               \rIgn:3 https://developer.download.nvidia.com/compute/machine-learning/repos/ubuntu1804/x86_64  InRelease\n",
            "\r0% [2 InRelease gpgv 3,626 B] [Connecting to archive.ubuntu.com (91.189.88.142)\r                                                                               \rGet:4 https://developer.download.nvidia.com/compute/cuda/repos/ubuntu1804/x86_64  Release [697 B]\n",
            "\r0% [2 InRelease gpgv 3,626 B] [Connecting to archive.ubuntu.com (91.189.88.142)\r0% [2 InRelease gpgv 3,626 B] [Connecting to archive.ubuntu.com (91.189.88.142)\r                                                                               \rGet:5 https://developer.download.nvidia.com/compute/machine-learning/repos/ubuntu1804/x86_64  Release [564 B]\n",
            "\r0% [2 InRelease gpgv 3,626 B] [Waiting for headers] [Waiting for headers] [Wait\r0% [2 InRelease gpgv 3,626 B] [Waiting for headers] [Waiting for headers] [Wait\r                                                                               \rGet:6 http://security.ubuntu.com/ubuntu bionic-security InRelease [88.7 kB]\n",
            "\r0% [2 InRelease gpgv 3,626 B] [Waiting for headers] [6 InRelease 14.2 kB/88.7 k\r                                                                               \rGet:7 https://developer.download.nvidia.com/compute/cuda/repos/ubuntu1804/x86_64  Release.gpg [836 B]\n",
            "Get:8 https://developer.download.nvidia.com/compute/machine-learning/repos/ubuntu1804/x86_64  Release.gpg [833 B]\n",
            "Hit:9 http://archive.ubuntu.com/ubuntu bionic InRelease\n",
            "Get:10 http://ppa.launchpad.net/c2d4u.team/c2d4u4.0+/ubuntu bionic InRelease [15.9 kB]\n",
            "Get:11 https://cloud.r-project.org/bin/linux/ubuntu bionic-cran40/ Packages [39.3 kB]\n",
            "Get:12 http://archive.ubuntu.com/ubuntu bionic-updates InRelease [88.7 kB]\n",
            "Ign:13 https://developer.download.nvidia.com/compute/cuda/repos/ubuntu1804/x86_64  Packages\n",
            "Get:13 https://developer.download.nvidia.com/compute/cuda/repos/ubuntu1804/x86_64  Packages [370 kB]\n",
            "Hit:14 http://ppa.launchpad.net/graphics-drivers/ppa/ubuntu bionic InRelease\n",
            "Get:15 https://developer.download.nvidia.com/compute/machine-learning/repos/ubuntu1804/x86_64  Packages [57.0 kB]\n",
            "Get:16 http://archive.ubuntu.com/ubuntu bionic-backports InRelease [74.6 kB]\n",
            "Get:17 http://ppa.launchpad.net/qbittorrent-team/qbittorrent-stable/ubuntu bionic InRelease [15.9 kB]\n",
            "Get:18 http://security.ubuntu.com/ubuntu bionic-security/main amd64 Packages [1,745 kB]\n",
            "Get:19 http://ppa.launchpad.net/c2d4u.team/c2d4u4.0+/ubuntu bionic/main Sources [1,685 kB]\n",
            "Get:20 http://security.ubuntu.com/ubuntu bionic-security/multiverse amd64 Packages [15.4 kB]\n",
            "Get:21 http://security.ubuntu.com/ubuntu bionic-security/universe amd64 Packages [1,352 kB]\n",
            "Get:22 http://security.ubuntu.com/ubuntu bionic-security/restricted amd64 Packages [211 kB]\n",
            "Get:23 http://archive.ubuntu.com/ubuntu bionic-updates/main amd64 Packages [2,162 kB]\n",
            "Get:24 http://archive.ubuntu.com/ubuntu bionic-updates/multiverse amd64 Packages [45.9 kB]\n",
            "Get:25 http://archive.ubuntu.com/ubuntu bionic-updates/universe amd64 Packages [2,115 kB]\n",
            "Get:26 http://archive.ubuntu.com/ubuntu bionic-updates/restricted amd64 Packages [238 kB]\n",
            "Get:27 http://ppa.launchpad.net/c2d4u.team/c2d4u4.0+/ubuntu bionic/main amd64 Packages [862 kB]\n",
            "Get:28 http://ppa.launchpad.net/qbittorrent-team/qbittorrent-stable/ubuntu bionic/main amd64 Packages [2,879 B]\n",
            "Fetched 11.2 MB in 4s (2,735 kB/s)\n",
            "Reading package lists... Done\n",
            "Reading package lists... Done\n",
            "Building dependency tree       \n",
            "Reading state information... Done\n",
            "The following additional packages will be installed:\n",
            "  libtorrent-rasterbar10\n",
            "Suggested packages:\n",
            "  libtorrent-rasterbar-dbg qbittorrent-dbg\n",
            "The following NEW packages will be installed:\n",
            "  libtorrent-rasterbar10 qbittorrent-nox\n",
            "0 upgraded, 2 newly installed, 0 to remove and 51 not upgraded.\n",
            "Need to get 5,801 kB of archives.\n",
            "After this operation, 9,508 kB of additional disk space will be used.\n",
            "Get:1 http://ppa.launchpad.net/qbittorrent-team/qbittorrent-stable/ubuntu bionic/main amd64 libtorrent-rasterbar10 amd64 1.2.10+git20201018.3d48e7d056-1ppa1~18.04 [942 kB]\n",
            "Get:2 http://ppa.launchpad.net/qbittorrent-team/qbittorrent-stable/ubuntu bionic/main amd64 qbittorrent-nox amd64 1:4.3.0.99~202010231047-7094-260e48b70~ubuntu18.04.1 [4,859 kB]\n",
            "Fetched 5,801 kB in 3s (2,202 kB/s)\n",
            "Selecting previously unselected package libtorrent-rasterbar10.\n",
            "(Reading database ... 144611 files and directories currently installed.)\n",
            "Preparing to unpack .../libtorrent-rasterbar10_1.2.10+git20201018.3d48e7d056-1ppa1~18.04_amd64.deb ...\n",
            "Unpacking libtorrent-rasterbar10 (1.2.10+git20201018.3d48e7d056-1ppa1~18.04) ...\n",
            "Selecting previously unselected package qbittorrent-nox.\n",
            "Preparing to unpack .../qbittorrent-nox_1%3a4.3.0.99~202010231047-7094-260e48b70~ubuntu18.04.1_amd64.deb ...\n",
            "Unpacking qbittorrent-nox (1:4.3.0.99~202010231047-7094-260e48b70~ubuntu18.04.1) ...\n",
            "Setting up libtorrent-rasterbar10 (1.2.10+git20201018.3d48e7d056-1ppa1~18.04) ...\n",
            "Setting up qbittorrent-nox (1:4.3.0.99~202010231047-7094-260e48b70~ubuntu18.04.1) ...\n",
            "Processing triggers for man-db (2.8.3-2ubuntu0.1) ...\n",
            "Processing triggers for libc-bin (2.27-3ubuntu1.2) ...\n",
            "/sbin/ldconfig.real: /usr/local/lib/python3.6/dist-packages/ideep4py/lib/libmkldnn.so.0 is not a symbolic link\n",
            "\n"
          ],
          "name": "stdout"
        }
      ]
    },
    {
      "cell_type": "markdown",
      "metadata": {
        "id": "Zm_l6aY68Cvd"
      },
      "source": [
        "Go to https://ngrok.com/ and get your **token**"
      ]
    },
    {
      "cell_type": "code",
      "metadata": {
        "id": "P_Dvgf_D0jdJ",
        "colab": {
          "base_uri": "https://localhost:8080/",
          "height": 34
        },
        "outputId": "08184f15-5cf8-44a1-edf4-d33f64dadce7"
      },
      "source": [
        "TOKEN = \"Your ngrok Token Here\"\n",
        "\n",
        "def install_ngrok():\n",
        "    import os\n",
        "    from zipfile import ZipFile\n",
        "    from urllib.request import urlretrieve\n",
        "    \n",
        "    url = 'https://bin.equinox.io/c/4VmDzA7iaHb/ngrok-stable-linux-amd64.zip'\n",
        "    urlretrieve(url, 'ngrok-amd64.zip')\n",
        "    \n",
        "    with ZipFile('ngrok-amd64.zip', 'r') as zip_ref:\n",
        "        zip_ref.extractall('/usr/local/bin/')\n",
        "    os.chmod('/usr/local/bin/ngrok', 0o755)\n",
        "    os.unlink('ngrok-amd64.zip')\n",
        "\n",
        "install_ngrok()\n",
        "if TOKEN != \"\":\n",
        "    !ngrok authtoken $TOKEN "
      ],
      "execution_count": null,
      "outputs": [
        {
          "output_type": "stream",
          "text": [
            "Authtoken saved to configuration file: /root/.ngrok2/ngrok.yml\n"
          ],
          "name": "stdout"
        }
      ]
    },
    {
      "cell_type": "markdown",
      "metadata": {
        "id": "p1ifUiKj9ewJ"
      },
      "source": [
        "Start the tunnel!\n",
        "with **username:** admin\n",
        "     **password:** adminadmin "
      ]
    },
    {
      "cell_type": "code",
      "metadata": {
        "id": "efQ4sSoN0qHT",
        "colab": {
          "base_uri": "https://localhost:8080/",
          "height": 134
        },
        "outputId": "34202a8e-c961-455d-af65-339643053323"
      },
      "source": [
        "import threading\n",
        "import time\n",
        "import requests\n",
        "import json\n",
        "import subprocess\n",
        "\n",
        "def torrent(port):\n",
        "    command = subprocess.Popen(['qbittorrent-nox', f'--webui-port={port}'])\n",
        "\n",
        "def ngrok(port):\n",
        "    \n",
        "    ngrok_cmd = subprocess.Popen(['ngrok', 'http', str(port)])    \n",
        "    localhost_url = \"http://localhost:4040/api/tunnels\"\n",
        "\n",
        "    time.sleep(1)\n",
        "    tunnel_url = requests.get(localhost_url).text\n",
        "    json_data = json.loads(tunnel_url)\n",
        "\n",
        "    tunnel_url = json_data['tunnels'][0]['public_url']\n",
        "    tunnel_url = tunnel_url.replace(\"https\", \"http\")\n",
        "    print('Running at localhost: ' + str(port))\n",
        "    print(tunnel_url)\n",
        "\n",
        "if __name__ == '__main__':\n",
        "    \n",
        "    port = 9999\n",
        "\n",
        "    thread_torrent = threading.Thread(target = torrent, args=(int(port),))\n",
        "    thread_ngrok = threading.Thread(target = ngrok, args=(int(port),))\n",
        "\n",
        "    thread_torrent.start()\n",
        "    print('Torrent server started!')\n",
        "\n",
        "    time.sleep(5)\n",
        "    print('Establishing secure connection!')\n",
        "    \n",
        "    thread_ngrok.start()\n",
        "    print('Secure connection established...')\n",
        "    print('Username: admin')\n",
        "    print('password: adminadmin')\n",
        "    \n",
        "    thread_ngrok.join()\n",
        "    thread_torrent.join()"
      ],
      "execution_count": null,
      "outputs": [
        {
          "output_type": "stream",
          "text": [
            "Torrent server started!\n",
            "Establishing secure connection!\n",
            "Secure connection established...\n",
            "Username: admin\n",
            "password: adminadmin\n",
            "Running at localhost: 9999\n",
            "http://d66bb961ea9a.ngrok.io\n"
          ],
          "name": "stdout"
        }
      ]
    },
    {
      "cell_type": "markdown",
      "metadata": {
        "id": "1OxyQD7o9wMN"
      },
      "source": [
        "When you add magnet clink do not **forget** to select directory where you are going to be download like if you want to download in main directory select **/content/drive/My Drive** which is same as pwd(present working directory)"
      ]
    },
    {
      "cell_type": "markdown",
      "metadata": {
        "id": "d8aXHJU-98qG"
      },
      "source": [
        ""
      ]
    }
  ]
}